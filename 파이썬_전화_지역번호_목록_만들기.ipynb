{
  "nbformat": 4,
  "nbformat_minor": 0,
  "metadata": {
    "colab": {
      "provenance": [],
      "authorship_tag": "ABX9TyP7xVHN1FOvtMmr/NK2PxYd",
      "include_colab_link": true
    },
    "kernelspec": {
      "name": "python3",
      "display_name": "Python 3"
    },
    "language_info": {
      "name": "python"
    }
  },
  "cells": [
    {
      "cell_type": "markdown",
      "metadata": {
        "id": "view-in-github",
        "colab_type": "text"
      },
      "source": [
        "<a href=\"https://colab.research.google.com/github/HaEunMok/Python_practice/blob/main/%ED%8C%8C%EC%9D%B4%EC%8D%AC_%EC%A0%84%ED%99%94_%EC%A7%80%EC%97%AD%EB%B2%88%ED%98%B8_%EB%AA%A9%EB%A1%9D_%EB%A7%8C%EB%93%A4%EA%B8%B0.ipynb\" target=\"_parent\"><img src=\"https://colab.research.google.com/assets/colab-badge.svg\" alt=\"Open In Colab\"/></a>"
      ]
    },
    {
      "cell_type": "markdown",
      "source": [
        "파이썬 전화 지역번호 목록 만들기\n",
        "\n",
        "딕셔너리 형태로 변경해보자"
      ],
      "metadata": {
        "id": "s-58YVeU9ul6"
      }
    },
    {
      "cell_type": "code",
      "execution_count": 1,
      "metadata": {
        "id": "-xBRGBGy62f9"
      },
      "outputs": [],
      "source": [
        "# 아래의 문자를 딕셔너리 형태로 변경하기\n",
        "phone = \">경기 031 >강원 033 >충남 041 >충북 043 >경북 054 >경남 055 >전남 061 >전북 063\""
      ]
    },
    {
      "cell_type": "code",
      "source": [
        "phone_list=phone.split('>')"
      ],
      "metadata": {
        "id": "KhiaWqBJ-KAV"
      },
      "execution_count": 10,
      "outputs": []
    },
    {
      "cell_type": "code",
      "source": [
        "phone_dict={}\n",
        "for i in phone_list:\n",
        "  i_split=i.split()\n",
        "  if len(i_split) >0: # 값이 공백일 경우\n",
        "    key= i_split[0]\n",
        "    val= i_split[1]\n",
        "    phone_dict[key]=val\n",
        "    print(key, val)\n"
      ],
      "metadata": {
        "colab": {
          "base_uri": "https://localhost:8080/"
        },
        "id": "9JB6CMgZ9-ya",
        "outputId": "5a5f349a-57c5-4d80-8781-164879ede986"
      },
      "execution_count": 16,
      "outputs": [
        {
          "output_type": "stream",
          "name": "stdout",
          "text": [
            "경기 031\n",
            "강원 033\n",
            "충남 041\n",
            "충북 043\n",
            "경북 054\n",
            "경남 055\n",
            "전남 061\n",
            "전북 063\n"
          ]
        }
      ]
    },
    {
      "cell_type": "code",
      "source": [
        "phone_dict['강원']"
      ],
      "metadata": {
        "colab": {
          "base_uri": "https://localhost:8080/",
          "height": 36
        },
        "id": "f-Z_qasO-vFE",
        "outputId": "3606be30-8454-42aa-9dcf-d60117048d2f"
      },
      "execution_count": 17,
      "outputs": [
        {
          "output_type": "execute_result",
          "data": {
            "text/plain": [
              "'033'"
            ],
            "application/vnd.google.colaboratory.intrinsic+json": {
              "type": "string"
            }
          },
          "metadata": {},
          "execution_count": 17
        }
      ]
    }
  ]
}